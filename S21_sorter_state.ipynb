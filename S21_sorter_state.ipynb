{
  "cells": [
    {
      "cell_type": "markdown",
      "metadata": {
        "id": "view-in-github",
        "colab_type": "text"
      },
      "source": [
        "<a href=\"https://colab.research.google.com/github/avardy/roboticsbook-notebooks/blob/main/S21_sorter_state.ipynb\" target=\"_parent\"><img src=\"https://colab.research.google.com/assets/colab-badge.svg\" alt=\"Open In Colab\"/></a>"
      ]
    },
    {
      "cell_type": "code",
      "execution_count": 2,
      "metadata": {
        "colab": {
          "base_uri": "https://localhost:8080/"
        },
        "id": "JoW4C_OkOMhe",
        "outputId": "8d524e1c-1e57-4bfb-c4f8-0881465ca3d2",
        "tags": [
          "remove-cell"
        ]
      },
      "outputs": [
        {
          "output_type": "stream",
          "name": "stdout",
          "text": [
            "\u001b[2K   \u001b[90m━━━━━━━━━━━━━━━━━━━━━━━━━━━━━━━━━━━━━━━━\u001b[0m \u001b[32m21.8/21.8 MB\u001b[0m \u001b[31m32.9 MB/s\u001b[0m eta \u001b[36m0:00:00\u001b[0m\n",
            "\u001b[2K   \u001b[90m━━━━━━━━━━━━━━━━━━━━━━━━━━━━━━━━━━━━━━━━\u001b[0m \u001b[32m79.9/79.9 MB\u001b[0m \u001b[31m9.8 MB/s\u001b[0m eta \u001b[36m0:00:00\u001b[0m\n",
            "\u001b[?25h"
          ]
        }
      ],
      "source": [
        "%pip install -U -q gtbook"
      ]
    },
    {
      "cell_type": "code",
      "execution_count": 3,
      "metadata": {
        "id": "10-snNDwOSuC",
        "tags": [
          "remove-cell"
        ]
      },
      "outputs": [],
      "source": [
        "import numpy as np\n",
        "import gtsam\n",
        "\n",
        "import plotly.express as px\n",
        "try:\n",
        "    import google.colab\n",
        "except:\n",
        "    import plotly.io as pio\n",
        "    pio.renderers.default = \"png\"\n",
        "\n",
        "import gtbook\n",
        "from gtbook.discrete import Variables\n",
        "from gtbook.display import show\n",
        "\n",
        "def pretty(obj):\n",
        "    return gtbook.display.pretty(obj, VARIABLES)"
      ]
    },
    {
      "cell_type": "markdown",
      "metadata": {
        "id": "nAvx4-UCNzt2"
      },
      "source": [
        "```{index} state; discrete state\n",
        "```\n",
        "\n",
        "# Modeling the World State\n",
        "\n",
        "> The physical properties of a piece of trash comprise all of the information needed by the robot.\n",
        "\n",
        "<img src=\"https://github.com/gtbook/robotics/blob/main/Figures2/S21-Trash_sorting_robot_with_gripper-09.jpg?raw=1\" alt=\"Splash image with robot approaching a trash bin\" width=\"40%\" align=center style=\"vertical-align:middle;margin:10px 0px\">"
      ]
    },
    {
      "cell_type": "markdown",
      "metadata": {
        "id": "_fKieiP0FRdy"
      },
      "source": [
        "For our simple trash sorting robot, the only thing that matters at a given moment is the category\n",
        "of the item of trash on the conveyor belt. Remember that items of trash are presented individually to the robot,\n",
        "so there is no clutter, and no circumstance in which multiple pieces of trash are simultaneously in the workspace.\n",
        "Therefore, it is natural to define the world state explicitly in terms of the category of the current\n",
        "item of trash.\n",
        "\n",
        "We consider five possible categories:\n",
        "- cardboard\n",
        "- paper\n",
        "- cans\n",
        "- scrap metal\n",
        "- bottle"
      ]
    },
    {
      "cell_type": "markdown",
      "metadata": {
        "id": "5k96ZYW2FRdy"
      },
      "source": [
        "For simplicity, we assume here that there will never be a piece of trash that does not belong to one of these categories.  We do not, however, assume that the category of an item can be reliably determined with 100% accuracy.\n",
        "Instead, we use probability theory to quantify the uncertainty associated to an object's categorization."
      ]
    },
    {
      "cell_type": "markdown",
      "metadata": {
        "id": "KcHJG7C-cBeO"
      },
      "source": [
        "## Using Probability to Model Uncertainty\n",
        "\n",
        "> Probability theory provides a rigorous methodology for reasoning about uncertainty."
      ]
    },
    {
      "cell_type": "markdown",
      "metadata": {
        "id": "2KlvxhySFRdy"
      },
      "source": [
        "We will use probability theory to model uncertainty.\n",
        "While a comprehensive coverage of probability theory is beyond the scope of this book,\n",
        "we introduce key concepts and methods throughout the text, as needed,\n",
        "to deal with various kinds of uncertainty that occur in robotics applications.\n",
        "Rigorous introductions can be found in many textbooks, including [Probability for Data Science](https://probability4datascience.com/index.html) (which is available online)."
      ]
    },
    {
      "cell_type": "markdown",
      "metadata": {
        "id": "loM4WUxHFRdy"
      },
      "source": [
        "```{index} sample space```The starting point for reasoning with uncertainty is to define the set of outcomes that might occur.\n",
        "The set of all possible outcomes is called the **sample space**, often denoted by $\\Omega.$\n",
        "In our example, when an item of trash arrives on the conveyor belt,\n",
        "there are five possible outcomes,\n",
        "\n",
        "$\\Omega = \\{ \\rm{cardboard, paper, cans, scrap \\; metal, bottle}\\}.$"
      ]
    },
    {
      "cell_type": "markdown",
      "metadata": {
        "id": "DOms-BR0FRdy"
      },
      "source": [
        "```{index} event, probability distribution```## Probability Distributions\n",
        "A subset of the sample space $\\Omega$ is called an **event**.  A **probability distribution**, $P$, assigns a probability $0 \\leq P(A) \\leq 1$ to each event $A \\subseteq \\Omega$, with $P(\\emptyset) = 0$ and $P(\\Omega)=1$.\n",
        "In addition, for disjoint events, $A_i \\cap A_j = \\emptyset$, we have\n",
        "$P(A_i \\cup A_j) = P(A_i) + P(A_j)$.\n",
        "Using this property, it is a simple matter to compute the probability for any $A \\subseteq \\Omega$\n",
        "if we are provided with the probabilities of the individual outcomes.\n",
        "Further, since $P(\\Omega)=1$, it follows immediately that\n",
        "\n",
        "$$P(\\Omega) = \\sum_{\\omega \\in \\Omega} P(\\{\\omega\\}) = 1$$\n",
        "\n",
        "i.e., that the probabilities of the individual outcomes sum to unity.\n",
        "As a slight abuse of notation, for singleton events, we will often write $P(\\omega)$ rather than $P(\\{\\omega\\})$\n",
        "to simplify notation."
      ]
    },
    {
      "cell_type": "markdown",
      "metadata": {
        "id": "u7pul2-MFRdz"
      },
      "source": [
        "In robotics applications, the probability assigned to an outcome reflects our certainty in that outcome.\n",
        "These probabilities can change based on the arrival of new evidence.\n",
        "In robotics, this can occur when the robot acts in the world, or based on sensor data.\n",
        "How evidence affects the propagation of probability values is a recurring topic in this book."
      ]
    },
    {
      "cell_type": "markdown",
      "metadata": {
        "id": "rkFiTuQacBeO"
      },
      "source": [
        "## Prior Probability Distributions\n",
        "> A *prior* that describes our beliefs before any sensor data is obtained.\n",
        "\n",
        "Once we have enumerated the set of possible outcomes, we confront a fundamental question: *Where do the\n",
        "probability values come from?* In this section we explicitly consider the notion of prior knowledge that is available in a particular application. High-quality \"priors\" can make a big difference in performance, especially when measurements are few or unreliable.\n",
        "\n",
        "In some cases, we merely assume that all outcomes are equally likely, for example, when rolling a die or tossing coin.\n",
        "In such cases, the probability of any outcome is merely $P(\\omega) = 1/N$ for each $\\omega \\in \\Omega$, where $N =| \\Omega |$.\n",
        "This leads to $P(\\mathrm{heads}) = P(\\mathrm{tails}) = 0.5$ when tossing a fair coin,\n",
        "where $\\Omega = \\{ \\mathrm{heads, tails} \\}$.\n",
        "\n",
        "In other cases, we can estimate probabilities using data.\n",
        "Suppose, for example, that the owner of the trash-sorting facility has told us (or we have kept statistics over time) that for every 1000 pieces of trash, the observed category counts are approximately as follows:\n",
        "- cardboard: 200\n",
        "- paper: 300\n",
        "- cans: 250\n",
        "- scrap metal: 200\n",
        "- bottle: 50"
      ]
    },
    {
      "cell_type": "markdown",
      "metadata": {
        "id": "f4pdPjamFRdz"
      },
      "source": [
        "It is common to assume that outcomes occur in proportion to their probability (there are a number of\n",
        "technical conditions that underlie this assumption, such as the condition that outcomes are independent,\n",
        "but we will not address these here). Thus, from the above observed frequencies, we might estimate that the probability of seeing a piece of cardboard in the work cell is given by\n",
        "\n",
        "$$P(\\mathrm{cardboard}) \\approx 200/1000 = 0.2$$\n",
        "\n",
        "Using the same logic, we can do the same for all categories, yielding:\n",
        "\n",
        "| *Category (C)* | *P(C)* |\n",
        "|----------------|:------:|\n",
        "| cardboard      |   0.20 |\n",
        "| paper          |   0.30 |\n",
        "| can            |   0.25 |\n",
        "| scrap metal    |   0.20 |\n",
        "| bottle         |   0.05 |"
      ]
    },
    {
      "cell_type": "markdown",
      "metadata": {
        "id": "rpWFg_sdFRdz"
      },
      "source": [
        "```{index} prior```We call this type of probabilistic knowledge about the state of the world, in the absence of any other information, a **prior**, because it represents our belief *before* any evidence (e.g., sensor data) has been acquired.\n",
        "\n",
        "\n",
        "<!-- Here, a word about notation is in order.  We use upper case letters to denote random quantities. For example, we use $C$ to denote the random outcome of a particular\n",
        "category of trash arriving to the sorting station.  When you see an uppercase letter, it indicates that we do not know what value this outcome will take, but\n",
        "that we do know a probability distribution for the values that could occur.\n",
        "We use lower case letters, possibly subscripted, to denote specific outcomes. For example, we might define $c_1 =$ cardboard,\n",
        "$c_2 =$ paper, etc.  Thus, we might write $P(C = c_1)$ or merely $P(c_1)$ to denote the prior probability that an item of trash is cardboard. -->"
      ]
    },
    {
      "cell_type": "markdown",
      "metadata": {
        "id": "Kc_UeQX7cBeP"
      },
      "source": [
        "## Probability Distributions in Python\n",
        "> We represent probability distributions using the  `DiscreteDistribution` class in GTSAM.\n",
        "\n",
        "The GTSAM toolbox (GTSAM stands for “Georgia Tech Smoothing and\n",
        "Mapping”) toolbox is a BSD-licensed C++ library based on factor graphs,\n",
        "first developed at the Georgia Institute of Technology.\n",
        "It provides state of the art solutions to important problems in robotics,\n",
        "such as the Simultaneous Localization and Mapping (SLAM) and Structure from Motion (SfM) problems,\n",
        "but can also be used to model and solve both\n",
        "simpler and more complex estimation problems. More information is\n",
        "available at <http://gtsam.org>.\n",
        "\n",
        "GTSAM also provides both a MATLAB and a python interface,\n",
        "enabling rapid prototype development, visualization, and user interaction.\n",
        "The python library can be imported directly into a Google colab via\n",
        "“import gtsam”. A large subset of the GTSAM functionality can be\n",
        "accessed through wrapped classes from within python.\n",
        "To not interrupt the flow of the book too much we do not always fully explain the code throughout the text, but rather include a \"GTSAM 101\" sub-section at the end that elaborates on the types and functions we used.\n",
        "\n",
        "The code below illustrates the use of GTSAM. First we create a `Variables` data structure that will be used to obtain more informative output from other code below:"
      ]
    },
    {
      "cell_type": "code",
      "execution_count": 4,
      "metadata": {
        "id": "zIqYIln4P9Ou"
      },
      "outputs": [],
      "source": [
        "VARIABLES = Variables()\n",
        "categories = [\"cardboard\", \"paper\", \"can\", \"scrap metal\", \"bottle\"]\n",
        "Category = VARIABLES.discrete(\"Category\", categories)"
      ]
    },
    {
      "cell_type": "markdown",
      "metadata": {
        "id": "GsHjbwa2FRdz"
      },
      "source": [
        "Conceptually, the Variables class keeps track of the names of variables and what values each variable can take on. For example in the above, we need the variable `Category`, and it can take on the values `cardboard`, `paper`, `can`, `scrap metal`, and `bottle`. We do this so that later when we print, it can show us a nicely rendered outputs."
      ]
    },
    {
      "cell_type": "markdown",
      "metadata": {
        "id": "1gEeQUJQP9Ou"
      },
      "source": [
        "We can now create a prior probability $P(Category)$ on the category using a `DiscreteDistribution` constructor:"
      ]
    },
    {
      "cell_type": "code",
      "execution_count": 5,
      "metadata": {
        "id": "vuv1JUsFP9Ov"
      },
      "outputs": [],
      "source": [
        "category_prior = gtsam.DiscreteDistribution(Category, \"200/300/250/200/50\")"
      ]
    },
    {
      "cell_type": "markdown",
      "metadata": {
        "id": "wzrhXDkzP9Ov"
      },
      "source": [
        "The constructor automatically normalizes the numbers given to it to a proper probability distribution, i.e., it makes the probabilities sum to one. It is rendered in notebook as a table below, where we can verify this:"
      ]
    },
    {
      "cell_type": "code",
      "execution_count": 6,
      "metadata": {
        "colab": {
          "base_uri": "https://localhost:8080/",
          "height": 175
        },
        "id": "qH0uUczsP9Ow",
        "outputId": "f5b779f1-130e-40c3-8b43-689e13f8b3bf"
      },
      "outputs": [
        {
          "output_type": "execute_result",
          "data": {
            "text/plain": [
              "<gtbook.display.pretty at 0x7ee0633b6800>"
            ],
            "text/html": [
              "<div>\n",
              "<p>  <i>P(Category):</i></p>\n",
              "<div>\n",
              "<table class='DecisionTreeFactor'>\n",
              "  <thead>\n",
              "    <tr><th>Category</th><th>value</th></tr>\n",
              "  </thead>\n",
              "  <tbody>\n",
              "    <tr><th>cardboard</th><td>0.2</td></tr>\n",
              "    <tr><th>paper</th><td>0.3</td></tr>\n",
              "    <tr><th>can</th><td>0.25</td></tr>\n",
              "    <tr><th>scrap metal</th><td>0.2</td></tr>\n",
              "    <tr><th>bottle</th><td>0.05</td></tr>\n",
              "  </tbody>\n",
              "</table>\n",
              "</div>"
            ]
          },
          "metadata": {},
          "execution_count": 6
        }
      ],
      "source": [
        "pretty(category_prior)"
      ]
    },
    {
      "cell_type": "markdown",
      "metadata": {
        "id": "FjA0nXaSP9Ow"
      },
      "source": [
        "We can evaluate the prior for any category value, e.g., \"can\", but that function does take integer indices, not srings. Hence, we use the built-in python function `index` to obtain that integer (2 in this case):"
      ]
    },
    {
      "cell_type": "code",
      "execution_count": 7,
      "metadata": {
        "colab": {
          "base_uri": "https://localhost:8080/"
        },
        "id": "r1yKMGu9P9Ow",
        "outputId": "9cf218cf-9455-4bb6-ce9b-2dc838729c8e"
      },
      "outputs": [
        {
          "output_type": "stream",
          "name": "stdout",
          "text": [
            "P('can') = 0.25\n"
          ]
        }
      ],
      "source": [
        "index = categories.index('can')  # we still have to use an integer value\n",
        "P_can = category_prior(index)\n",
        "print(f\"P('can') = {P_can}\")"
      ]
    },
    {
      "cell_type": "markdown",
      "metadata": {
        "id": "jP9H_6aEP9Ow"
      },
      "source": [
        "We can also recover all values in the probability distribution at once, using the `pmf` method:"
      ]
    },
    {
      "cell_type": "code",
      "execution_count": 8,
      "metadata": {
        "colab": {
          "base_uri": "https://localhost:8080/"
        },
        "id": "51BH3wF4P9Ow",
        "outputId": "ada3c392-a45d-41e9-8ab2-ec896aad96a3"
      },
      "outputs": [
        {
          "output_type": "execute_result",
          "data": {
            "text/plain": [
              "[0.2, 0.3, 0.25, 0.2, 0.05]"
            ]
          },
          "metadata": {},
          "execution_count": 8
        }
      ],
      "source": [
        "PMF = category_prior.pmf()\n",
        "PMF"
      ]
    },
    {
      "cell_type": "markdown",
      "metadata": {
        "id": "MrcIXHKac07Q"
      },
      "source": [
        "Here \"pmf\" is short for \"probability mass function\", which we define more precisely in Section 2.2. Note that the ordering of the array was fixed when we defined `categories` above.  It is your responsibility\n",
        "to maintain consistency when using arrays to store values associated to a collection of variables.\n",
        "\n",
        "We can display probability distributions in various ways, including as a bar graph, as shown below."
      ]
    },
    {
      "cell_type": "code",
      "execution_count": 9,
      "metadata": {
        "colab": {
          "base_uri": "https://localhost:8080/",
          "height": 542
        },
        "id": "BNJf2OBlP9Ow",
        "outputId": "18eb56c1-5bc8-4fbe-ebe0-d524b587233f"
      },
      "outputs": [
        {
          "output_type": "display_data",
          "data": {
            "text/html": [
              "<html>\n",
              "<head><meta charset=\"utf-8\" /></head>\n",
              "<body>\n",
              "    <div>            <script src=\"https://cdnjs.cloudflare.com/ajax/libs/mathjax/2.7.5/MathJax.js?config=TeX-AMS-MML_SVG\"></script><script type=\"text/javascript\">if (window.MathJax && window.MathJax.Hub && window.MathJax.Hub.Config) {window.MathJax.Hub.Config({SVG: {font: \"STIX-Web\"}});}</script>                <script type=\"text/javascript\">window.PlotlyConfig = {MathJaxConfig: 'local'};</script>\n",
              "        <script charset=\"utf-8\" src=\"https://cdn.plot.ly/plotly-2.35.2.min.js\"></script>                <div id=\"5f1dc361-9128-4673-9c37-3bf370a8cf0b\" class=\"plotly-graph-div\" style=\"height:525px; width:100%;\"></div>            <script type=\"text/javascript\">                                    window.PLOTLYENV=window.PLOTLYENV || {};                                    if (document.getElementById(\"5f1dc361-9128-4673-9c37-3bf370a8cf0b\")) {                    Plotly.newPlot(                        \"5f1dc361-9128-4673-9c37-3bf370a8cf0b\",                        [{\"alignmentgroup\":\"True\",\"hovertemplate\":\"x=%{x}\\u003cbr\\u003ey=%{y}\\u003cextra\\u003e\\u003c\\u002fextra\\u003e\",\"legendgroup\":\"\",\"marker\":{\"color\":\"#636efa\",\"pattern\":{\"shape\":\"\"}},\"name\":\"\",\"offsetgroup\":\"\",\"orientation\":\"v\",\"showlegend\":false,\"textposition\":\"auto\",\"x\":[\"cardboard\",\"paper\",\"can\",\"scrap metal\",\"bottle\"],\"xaxis\":\"x\",\"y\":[0.2,0.3,0.25,0.2,0.05],\"yaxis\":\"y\",\"type\":\"bar\"}],                        {\"template\":{\"data\":{\"histogram2dcontour\":[{\"type\":\"histogram2dcontour\",\"colorbar\":{\"outlinewidth\":0,\"ticks\":\"\"},\"colorscale\":[[0.0,\"#0d0887\"],[0.1111111111111111,\"#46039f\"],[0.2222222222222222,\"#7201a8\"],[0.3333333333333333,\"#9c179e\"],[0.4444444444444444,\"#bd3786\"],[0.5555555555555556,\"#d8576b\"],[0.6666666666666666,\"#ed7953\"],[0.7777777777777778,\"#fb9f3a\"],[0.8888888888888888,\"#fdca26\"],[1.0,\"#f0f921\"]]}],\"choropleth\":[{\"type\":\"choropleth\",\"colorbar\":{\"outlinewidth\":0,\"ticks\":\"\"}}],\"histogram2d\":[{\"type\":\"histogram2d\",\"colorbar\":{\"outlinewidth\":0,\"ticks\":\"\"},\"colorscale\":[[0.0,\"#0d0887\"],[0.1111111111111111,\"#46039f\"],[0.2222222222222222,\"#7201a8\"],[0.3333333333333333,\"#9c179e\"],[0.4444444444444444,\"#bd3786\"],[0.5555555555555556,\"#d8576b\"],[0.6666666666666666,\"#ed7953\"],[0.7777777777777778,\"#fb9f3a\"],[0.8888888888888888,\"#fdca26\"],[1.0,\"#f0f921\"]]}],\"heatmap\":[{\"type\":\"heatmap\",\"colorbar\":{\"outlinewidth\":0,\"ticks\":\"\"},\"colorscale\":[[0.0,\"#0d0887\"],[0.1111111111111111,\"#46039f\"],[0.2222222222222222,\"#7201a8\"],[0.3333333333333333,\"#9c179e\"],[0.4444444444444444,\"#bd3786\"],[0.5555555555555556,\"#d8576b\"],[0.6666666666666666,\"#ed7953\"],[0.7777777777777778,\"#fb9f3a\"],[0.8888888888888888,\"#fdca26\"],[1.0,\"#f0f921\"]]}],\"heatmapgl\":[{\"type\":\"heatmapgl\",\"colorbar\":{\"outlinewidth\":0,\"ticks\":\"\"},\"colorscale\":[[0.0,\"#0d0887\"],[0.1111111111111111,\"#46039f\"],[0.2222222222222222,\"#7201a8\"],[0.3333333333333333,\"#9c179e\"],[0.4444444444444444,\"#bd3786\"],[0.5555555555555556,\"#d8576b\"],[0.6666666666666666,\"#ed7953\"],[0.7777777777777778,\"#fb9f3a\"],[0.8888888888888888,\"#fdca26\"],[1.0,\"#f0f921\"]]}],\"contourcarpet\":[{\"type\":\"contourcarpet\",\"colorbar\":{\"outlinewidth\":0,\"ticks\":\"\"}}],\"contour\":[{\"type\":\"contour\",\"colorbar\":{\"outlinewidth\":0,\"ticks\":\"\"},\"colorscale\":[[0.0,\"#0d0887\"],[0.1111111111111111,\"#46039f\"],[0.2222222222222222,\"#7201a8\"],[0.3333333333333333,\"#9c179e\"],[0.4444444444444444,\"#bd3786\"],[0.5555555555555556,\"#d8576b\"],[0.6666666666666666,\"#ed7953\"],[0.7777777777777778,\"#fb9f3a\"],[0.8888888888888888,\"#fdca26\"],[1.0,\"#f0f921\"]]}],\"surface\":[{\"type\":\"surface\",\"colorbar\":{\"outlinewidth\":0,\"ticks\":\"\"},\"colorscale\":[[0.0,\"#0d0887\"],[0.1111111111111111,\"#46039f\"],[0.2222222222222222,\"#7201a8\"],[0.3333333333333333,\"#9c179e\"],[0.4444444444444444,\"#bd3786\"],[0.5555555555555556,\"#d8576b\"],[0.6666666666666666,\"#ed7953\"],[0.7777777777777778,\"#fb9f3a\"],[0.8888888888888888,\"#fdca26\"],[1.0,\"#f0f921\"]]}],\"mesh3d\":[{\"type\":\"mesh3d\",\"colorbar\":{\"outlinewidth\":0,\"ticks\":\"\"}}],\"scatter\":[{\"fillpattern\":{\"fillmode\":\"overlay\",\"size\":10,\"solidity\":0.2},\"type\":\"scatter\"}],\"parcoords\":[{\"type\":\"parcoords\",\"line\":{\"colorbar\":{\"outlinewidth\":0,\"ticks\":\"\"}}}],\"scatterpolargl\":[{\"type\":\"scatterpolargl\",\"marker\":{\"colorbar\":{\"outlinewidth\":0,\"ticks\":\"\"}}}],\"bar\":[{\"error_x\":{\"color\":\"#2a3f5f\"},\"error_y\":{\"color\":\"#2a3f5f\"},\"marker\":{\"line\":{\"color\":\"#E5ECF6\",\"width\":0.5},\"pattern\":{\"fillmode\":\"overlay\",\"size\":10,\"solidity\":0.2}},\"type\":\"bar\"}],\"scattergeo\":[{\"type\":\"scattergeo\",\"marker\":{\"colorbar\":{\"outlinewidth\":0,\"ticks\":\"\"}}}],\"scatterpolar\":[{\"type\":\"scatterpolar\",\"marker\":{\"colorbar\":{\"outlinewidth\":0,\"ticks\":\"\"}}}],\"histogram\":[{\"marker\":{\"pattern\":{\"fillmode\":\"overlay\",\"size\":10,\"solidity\":0.2}},\"type\":\"histogram\"}],\"scattergl\":[{\"type\":\"scattergl\",\"marker\":{\"colorbar\":{\"outlinewidth\":0,\"ticks\":\"\"}}}],\"scatter3d\":[{\"type\":\"scatter3d\",\"line\":{\"colorbar\":{\"outlinewidth\":0,\"ticks\":\"\"}},\"marker\":{\"colorbar\":{\"outlinewidth\":0,\"ticks\":\"\"}}}],\"scattermapbox\":[{\"type\":\"scattermapbox\",\"marker\":{\"colorbar\":{\"outlinewidth\":0,\"ticks\":\"\"}}}],\"scatterternary\":[{\"type\":\"scatterternary\",\"marker\":{\"colorbar\":{\"outlinewidth\":0,\"ticks\":\"\"}}}],\"scattercarpet\":[{\"type\":\"scattercarpet\",\"marker\":{\"colorbar\":{\"outlinewidth\":0,\"ticks\":\"\"}}}],\"carpet\":[{\"aaxis\":{\"endlinecolor\":\"#2a3f5f\",\"gridcolor\":\"white\",\"linecolor\":\"white\",\"minorgridcolor\":\"white\",\"startlinecolor\":\"#2a3f5f\"},\"baxis\":{\"endlinecolor\":\"#2a3f5f\",\"gridcolor\":\"white\",\"linecolor\":\"white\",\"minorgridcolor\":\"white\",\"startlinecolor\":\"#2a3f5f\"},\"type\":\"carpet\"}],\"table\":[{\"cells\":{\"fill\":{\"color\":\"#EBF0F8\"},\"line\":{\"color\":\"white\"}},\"header\":{\"fill\":{\"color\":\"#C8D4E3\"},\"line\":{\"color\":\"white\"}},\"type\":\"table\"}],\"barpolar\":[{\"marker\":{\"line\":{\"color\":\"#E5ECF6\",\"width\":0.5},\"pattern\":{\"fillmode\":\"overlay\",\"size\":10,\"solidity\":0.2}},\"type\":\"barpolar\"}],\"pie\":[{\"automargin\":true,\"type\":\"pie\"}]},\"layout\":{\"autotypenumbers\":\"strict\",\"colorway\":[\"#636efa\",\"#EF553B\",\"#00cc96\",\"#ab63fa\",\"#FFA15A\",\"#19d3f3\",\"#FF6692\",\"#B6E880\",\"#FF97FF\",\"#FECB52\"],\"font\":{\"color\":\"#2a3f5f\"},\"hovermode\":\"closest\",\"hoverlabel\":{\"align\":\"left\"},\"paper_bgcolor\":\"white\",\"plot_bgcolor\":\"#E5ECF6\",\"polar\":{\"bgcolor\":\"#E5ECF6\",\"angularaxis\":{\"gridcolor\":\"white\",\"linecolor\":\"white\",\"ticks\":\"\"},\"radialaxis\":{\"gridcolor\":\"white\",\"linecolor\":\"white\",\"ticks\":\"\"}},\"ternary\":{\"bgcolor\":\"#E5ECF6\",\"aaxis\":{\"gridcolor\":\"white\",\"linecolor\":\"white\",\"ticks\":\"\"},\"baxis\":{\"gridcolor\":\"white\",\"linecolor\":\"white\",\"ticks\":\"\"},\"caxis\":{\"gridcolor\":\"white\",\"linecolor\":\"white\",\"ticks\":\"\"}},\"coloraxis\":{\"colorbar\":{\"outlinewidth\":0,\"ticks\":\"\"}},\"colorscale\":{\"sequential\":[[0.0,\"#0d0887\"],[0.1111111111111111,\"#46039f\"],[0.2222222222222222,\"#7201a8\"],[0.3333333333333333,\"#9c179e\"],[0.4444444444444444,\"#bd3786\"],[0.5555555555555556,\"#d8576b\"],[0.6666666666666666,\"#ed7953\"],[0.7777777777777778,\"#fb9f3a\"],[0.8888888888888888,\"#fdca26\"],[1.0,\"#f0f921\"]],\"sequentialminus\":[[0.0,\"#0d0887\"],[0.1111111111111111,\"#46039f\"],[0.2222222222222222,\"#7201a8\"],[0.3333333333333333,\"#9c179e\"],[0.4444444444444444,\"#bd3786\"],[0.5555555555555556,\"#d8576b\"],[0.6666666666666666,\"#ed7953\"],[0.7777777777777778,\"#fb9f3a\"],[0.8888888888888888,\"#fdca26\"],[1.0,\"#f0f921\"]],\"diverging\":[[0,\"#8e0152\"],[0.1,\"#c51b7d\"],[0.2,\"#de77ae\"],[0.3,\"#f1b6da\"],[0.4,\"#fde0ef\"],[0.5,\"#f7f7f7\"],[0.6,\"#e6f5d0\"],[0.7,\"#b8e186\"],[0.8,\"#7fbc41\"],[0.9,\"#4d9221\"],[1,\"#276419\"]]},\"xaxis\":{\"gridcolor\":\"white\",\"linecolor\":\"white\",\"ticks\":\"\",\"title\":{\"standoff\":15},\"zerolinecolor\":\"white\",\"automargin\":true,\"zerolinewidth\":2},\"yaxis\":{\"gridcolor\":\"white\",\"linecolor\":\"white\",\"ticks\":\"\",\"title\":{\"standoff\":15},\"zerolinecolor\":\"white\",\"automargin\":true,\"zerolinewidth\":2},\"scene\":{\"xaxis\":{\"backgroundcolor\":\"#E5ECF6\",\"gridcolor\":\"white\",\"linecolor\":\"white\",\"showbackground\":true,\"ticks\":\"\",\"zerolinecolor\":\"white\",\"gridwidth\":2},\"yaxis\":{\"backgroundcolor\":\"#E5ECF6\",\"gridcolor\":\"white\",\"linecolor\":\"white\",\"showbackground\":true,\"ticks\":\"\",\"zerolinecolor\":\"white\",\"gridwidth\":2},\"zaxis\":{\"backgroundcolor\":\"#E5ECF6\",\"gridcolor\":\"white\",\"linecolor\":\"white\",\"showbackground\":true,\"ticks\":\"\",\"zerolinecolor\":\"white\",\"gridwidth\":2}},\"shapedefaults\":{\"line\":{\"color\":\"#2a3f5f\"}},\"annotationdefaults\":{\"arrowcolor\":\"#2a3f5f\",\"arrowhead\":0,\"arrowwidth\":1},\"geo\":{\"bgcolor\":\"white\",\"landcolor\":\"#E5ECF6\",\"subunitcolor\":\"white\",\"showland\":true,\"showlakes\":true,\"lakecolor\":\"white\"},\"title\":{\"x\":0.05},\"mapbox\":{\"style\":\"light\"}}},\"xaxis\":{\"anchor\":\"y\",\"domain\":[0.0,1.0],\"title\":{\"text\":\"x\"}},\"yaxis\":{\"anchor\":\"x\",\"domain\":[0.0,1.0],\"title\":{\"text\":\"y\"}},\"legend\":{\"tracegroupgap\":0},\"margin\":{\"t\":60},\"barmode\":\"relative\"},                        {\"responsive\": true}                    ).then(function(){\n",
              "                            \n",
              "var gd = document.getElementById('5f1dc361-9128-4673-9c37-3bf370a8cf0b');\n",
              "var x = new MutationObserver(function (mutations, observer) {{\n",
              "        var display = window.getComputedStyle(gd).display;\n",
              "        if (!display || display === 'none') {{\n",
              "            console.log([gd, 'removed!']);\n",
              "            Plotly.purge(gd);\n",
              "            observer.disconnect();\n",
              "        }}\n",
              "}});\n",
              "\n",
              "// Listen for the removal of the full notebook cells\n",
              "var notebookContainer = gd.closest('#notebook-container');\n",
              "if (notebookContainer) {{\n",
              "    x.observe(notebookContainer, {childList: true});\n",
              "}}\n",
              "\n",
              "// Listen for the clearing of the current output cell\n",
              "var outputEl = gd.closest('.output');\n",
              "if (outputEl) {{\n",
              "    x.observe(outputEl, {childList: true});\n",
              "}}\n",
              "\n",
              "                        })                };                            </script>        </div>\n",
              "</body>\n",
              "</html>"
            ]
          },
          "metadata": {}
        }
      ],
      "source": [
        "#| caption: A discrete probability distribution as a bar graph.\n",
        "#| label: fig:discrete-distribution\n",
        "px.bar(y=PMF, x=categories)"
      ]
    },
    {
      "cell_type": "markdown",
      "metadata": {
        "id": "LO2rZVgrFRd0"
      },
      "source": [
        "## Simulation by Sampling\n",
        "\n",
        "> We can simulate our trash sorting cell by sampling from the prior."
      ]
    },
    {
      "cell_type": "markdown",
      "metadata": {
        "id": "xstYfXw9cBeQ"
      },
      "source": [
        "Suppose we wish to simulate our trash sorting system such that the behavior of the simulation matches,\n",
        "in some statistical sense, the behavior of the actual system.\n",
        "In our case, this amounts to generating samples from the probability distribution\n",
        "on trash categories.\n",
        "In particular, we would like to generate a sequence of categories,\n",
        "$\\omega_1, \\omega_2, \\dots, \\omega_n$ such that\n",
        "$\\omega_i = \\mathrm{cardboard}$ approximately 25% of the time,\n",
        "$\\omega_i = \\mathrm{paper}$ approximately 20% of the time, etc.\n",
        "How can we write a computer program to do this?\n",
        "\n",
        "While most programming libraries do not include functions to generate samples from an arbitrary distribution,\n",
        "almost all include a random number generator that will generate a random number from the unit interval.\n",
        "We denote by $U(a,b)$ the uniform probability distribution on the interval $[a,b]$.\n",
        "In numpy, the function *np.random.rand()* generates a sample $x \\sim U(0,1)$.\n",
        "How can we use this result to generate a sample from an arbitrary probability distribution?"
      ]
    },
    {
      "cell_type": "markdown",
      "metadata": {
        "id": "__PyTMPoFRd0"
      },
      "source": [
        "### Cumulative Distribution Function\n",
        "We begin by introducing the Cumulative Distribution Function (CDF) for a random variable $X$.\n",
        "We will more carefully introduce the notion of a discrete random variable in Section 2.2, but for now it\n",
        "is sufficient to know that a discrete random variable takes a value from a countable set,\n",
        "each of which is assigned a probability value.\n",
        "For a random variable $X$, the CDF for $X$ is denoted by $F_X$, and is defined as\n",
        "\n",
        "$$\n",
        "F_X(\\alpha) = P(X \\leq \\alpha)\n",
        "$$\n",
        "It follows immediately that $0 \\leq F_X(\\alpha) \\leq 1$,\n",
        "since $F_X(\\alpha)$ is itself a probability.\n",
        "In the case of discrete random variables,\n",
        "say $X \\in \\{ x_0, \\dots x_{n-1}\\}$, we can compute the CDF\n",
        "$F_X(\\alpha)$ by summing the probabilities assigned\n",
        "to all $x_i \\leq \\alpha$\n",
        "\n",
        "$$\n",
        "F_X(\\alpha) = \\sum_{x_i \\leq \\alpha} P(x_i) = \\sum_{i=0}^{k-1} P(x_i)\n",
        "$$\n",
        "in which the rightmost summation follows if we choose $k$ such that $x_{k-1} \\leq \\alpha < x_k$.\n",
        "The terminology *Cumulative Distribution Function* is due to the fact that $F_X(\\alpha)$\n",
        "is the accumulated probability assigned to all outcomes less than or equal to $\\alpha$,\n",
        "which is apparent in these summation expressions."
      ]
    },
    {
      "cell_type": "markdown",
      "metadata": {
        "id": "LsdNnohRFRd0"
      },
      "source": [
        "But what does this have to do with generating samples from our distribution on categories?\n",
        "The idea is simple: we can generate $x\\sim U(0,1)$, and a CDF takes on values in the\n",
        "interval $[0,1]$.  For a discrete random variable $X \\in \\{ x_0, \\dots x_{n-1}\\}$\n",
        "the probability that our sample $x$ corresponds to category $k$\n",
        "is exactly equal to $F_X(x_k) - F_X(x_{k-1})$, and we define $F_X(x_k)=0$ for $k < 0$.\n",
        "\n",
        "To see this, we impose an ordering on our categories,\n",
        "- $c_0 = \\mathrm{cardboard}$\n",
        "- $c_1 = \\mathrm{paper}$\n",
        "- $c_2 = \\mathrm{can}$\n",
        "- $c_3 = \\mathrm{scrap \\; metal}$\n",
        "- $c_4 = \\mathrm{bottle}$\n",
        "\n",
        "and we define the random variable $X \\in \\{ 0,1,2,3,4\\}$ to be the index of the chosen category.\n",
        "The CDF for $X$ is given by:\n",
        "\n",
        "| $k$ | $x_k$ | $F_X$($x_k$) |\n",
        "|----|----------------|:------:|\n",
        "| 0 | cardboard    |   0.20 |\n",
        "| 1 | paper    |   0.50 |\n",
        "| 2 | can    |   0.75 |\n",
        "| 3 | scrap metal    |   0.95 |\n",
        "| 4 | bottle    |   1.00 |"
      ]
    },
    {
      "cell_type": "markdown",
      "metadata": {
        "id": "S0xFE98eFRd0"
      },
      "source": [
        "### Example\n",
        "Some numpy code to generate the CDF:"
      ]
    },
    {
      "cell_type": "code",
      "execution_count": 10,
      "metadata": {
        "colab": {
          "base_uri": "https://localhost:8080/"
        },
        "id": "2kUyKEO6c07R",
        "outputId": "d3d102ee-d1bb-48f9-ea78-33d1a988e5e6"
      },
      "outputs": [
        {
          "output_type": "stream",
          "name": "stdout",
          "text": [
            "[0.2  0.5  0.75 0.95 1.  ]\n"
          ]
        }
      ],
      "source": [
        "CDF = np.cumsum(PMF)\n",
        "print(CDF)"
      ]
    },
    {
      "cell_type": "markdown",
      "metadata": {
        "id": "mNOqcKEec07R"
      },
      "source": [
        "\n",
        "Now, suppose we generate a random sample $x \\sim U(0,1)$,\n",
        "and use this $x$ to choose category $k$ such that $F_X(x_{k-1}) < x \\leq F_X(x_k)$.\n",
        "For example, we choose category 4 if $0.95 < x \\leq 1.0$.\n",
        "In this case, what is the probability of choosing category 4?\n",
        "The answer follows from the fact that,\n",
        "for the uniform distribution on the unit interval, $P(X \\in [a,b]) = b-a$.\n",
        "Therefore, the probability that our sample lies in the interval $[0.95,1.0]$ is\n",
        "$0.05$, which happens to be exactly the prior probability assigned to category 4!\n",
        "Likewise, if our sample $x$ satisfies $0.2 < x \\leq 0.5$,\n",
        "we choose category 1, and the probability that our sample lies in the interval\n",
        "$[0.2,0.5]$ is $0.3$, which is, as expected, exactly the prior probability assigned\n",
        "to category 1.\n"
      ]
    },
    {
      "cell_type": "markdown",
      "metadata": {
        "id": "wHwPuUArcBeR"
      },
      "source": [
        "The code to accomplish sampling is:"
      ]
    },
    {
      "cell_type": "code",
      "execution_count": 11,
      "metadata": {
        "id": "8vDBsvNEcBeR"
      },
      "outputs": [],
      "source": [
        "def sample():\n",
        "    u = np.random.rand()\n",
        "    for category in range(5):\n",
        "        if u<float(CDF[category]):\n",
        "            return category"
      ]
    },
    {
      "cell_type": "markdown",
      "metadata": {
        "id": "4hXjVEL0FRd1"
      },
      "source": [
        "If we simulate our system by generating a large number of samples, we expect that the frequencies of each category will approximate their prior probabilities. To see this, the code below generates a histogram for 1000 generated samples. While the histogram values do not exactly match the prior probabilities, we can see that the approximation is quite good."
      ]
    },
    {
      "cell_type": "markdown",
      "metadata": {
        "id": "UH5tcOPsFRd1"
      },
      "source": [
        "Plotting this as a histogram:"
      ]
    },
    {
      "cell_type": "code",
      "execution_count": 12,
      "metadata": {
        "id": "F53NJctCFRd1",
        "outputId": "2cf60f7c-923a-4017-efa2-e589d34bba56",
        "colab": {
          "base_uri": "https://localhost:8080/",
          "height": 542
        }
      },
      "outputs": [
        {
          "output_type": "display_data",
          "data": {
            "text/html": [
              "<html>\n",
              "<head><meta charset=\"utf-8\" /></head>\n",
              "<body>\n",
              "    <div>            <script src=\"https://cdnjs.cloudflare.com/ajax/libs/mathjax/2.7.5/MathJax.js?config=TeX-AMS-MML_SVG\"></script><script type=\"text/javascript\">if (window.MathJax && window.MathJax.Hub && window.MathJax.Hub.Config) {window.MathJax.Hub.Config({SVG: {font: \"STIX-Web\"}});}</script>                <script type=\"text/javascript\">window.PlotlyConfig = {MathJaxConfig: 'local'};</script>\n",
              "        <script charset=\"utf-8\" src=\"https://cdn.plot.ly/plotly-2.35.2.min.js\"></script>                <div id=\"f97b572c-c0c6-443a-8312-27814732b918\" class=\"plotly-graph-div\" style=\"height:525px; width:100%;\"></div>            <script type=\"text/javascript\">                                    window.PLOTLYENV=window.PLOTLYENV || {};                                    if (document.getElementById(\"f97b572c-c0c6-443a-8312-27814732b918\")) {                    Plotly.newPlot(                        \"f97b572c-c0c6-443a-8312-27814732b918\",                        [{\"alignmentgroup\":\"True\",\"bingroup\":\"x\",\"hovertemplate\":\"x=%{x}\\u003cbr\\u003ecount=%{y}\\u003cextra\\u003e\\u003c\\u002fextra\\u003e\",\"legendgroup\":\"\",\"marker\":{\"color\":\"#636efa\",\"pattern\":{\"shape\":\"\"}},\"name\":\"\",\"offsetgroup\":\"\",\"orientation\":\"v\",\"showlegend\":false,\"x\":[0,1,4,1,1,1,1,1,2,0,1,1,3,3,2,3,0,1,3,0,2,3,1,2,0,1,0,1,0,2,2,0,1,1,1,1,1,2,3,0,2,1,2,1,1,0,3,0,0,2,4,1,1,0,0,2,3,3,0,3,0,1,1,3,1,1,4,3,0,1,1,1,2,4,2,0,2,0,1,2,4,2,3,0,1,2,2,2,0,1,1,2,3,1,1,0,2,0,3,2,2,2,2,0,0,3,2,3,3,2,3,2,2,2,1,1,2,1,1,3,2,2,2,2,2,4,4,1,3,2,1,1,3,1,0,2,2,2,2,3,3,0,0,3,4,2,0,1,1,1,3,3,0,2,1,1,2,2,2,2,1,0,1,3,2,2,0,3,1,2,2,0,0,2,0,1,1,1,2,3,3,1,2,2,1,3,1,2,1,1,1,0,1,1,4,0,2,1,3,0,0,2,0,0,3,0,2,0,3,3,2,1,2,1,1,1,0,4,3,4,2,1,2,2,1,3,2,2,2,4,1,3,1,1,1,0,0,3,1,3,2,0,2,4,0,2,2,2,0,1,1,0,3,3,0,2,1,1,2,0,4,0,3,1,1,1,2,0,1,3,1,1,4,2,1,2,0,4,4,2,1,3,2,1,1,1,3,4,0,1,3,0,1,3,3,3,2,4,0,0,1,0,1,1,2,2,0,1,0,0,3,1,4,0,1,0,0,2,3,3,0,0,2,2,0,4,3,3,3,0,0,2,0,1,2,0,1,1,2,2,1,4,3,2,2,0,1,1,3,1,2,0,2,2,1,3,1,0,2,0,1,4,0,3,1,3,0,1,1,3,1,4,2,1,1,0,0,1,2,2,2,0,0,2,2,0,0,2,1,3,0,1,3,2,1,2,1,0,2,2,2,2,3,3,1,0,2,1,2,1,1,2,2,1,3,1,2,2,3,1,2,1,0,1,1,2,2,1,2,1,0,1,3,1,3,1,0,4,0,0,3,1,0,2,2,1,1,0,2,2,4,1,0,2,0,3,2,2,1,1,3,0,2,1,3,0,2,4,0,2,1,0,1,2,4,3,0,0,1,1,1,1,2,0,3,0,2,2,4,3,0,3,1,1,3,4,1,1,1,3,2,0,2,3,3,0,3,3,1,0,3,2,0,1,0,0,1,2,1,2,2,1,0,3,0,0,0,4,1,1,1,1,2,3,2,1,3,0,2,3,3,1,3,0,1,3,1,1,2,2,0,1,2,2,0,2,2,2,1,2,3,4,1,1,2,3,4,4,0,0,2,0,2,1,1,0,2,1,3,3,1,2,0,1,4,2,0,3,2,3,1,1,3,1,3,2,0,1,3,1,0,3,1,1,3,3,0,2,0,0,3,2,0,3,1,2,0,0,0,2,1,0,2,3,4,1,3,2,3,3,2,1,0,3,3,3,0,2,1,3,1,1,1,0,3,0,3,2,3,3,1,0,3,1,1,0,1,2,3,2,1,2,0,3,0,3,3,0,3,3,2,2,1,2,1,3,4,3,2,2,0,2,1,0,3,0,0,0,0,2,3,3,0,1,2,1,4,0,1,3,3,2,3,1,1,1,3,3,2,2,1,3,2,2,0,1,3,1,0,1,1,1,1,3,0,3,3,1,4,4,0,2,3,1,3,4,1,3,2,2,1,1,2,0,0,1,3,2,3,3,1,1,3,2,1,2,2,3,3,1,0,1,2,2,2,2,0,3,3,4,3,1,0,3,0,0,1,1,2,3,0,0,2,1,1,3,0,0,3,1,3,0,2,3,2,3,1,4,0,3,0,2,0,0,1,0,1,1,2,2,4,2,1,0,2,1,3,1,1,1,0,2,2,1,1,2,3,1,2,2,3,0,0,1,1,1,3,0,0,1,2,2,1,3,3,2,3,1,1,2,1,0,1,3,1,1,2,2,1,0,1,2,3,1,1,1,1,3,3,0,3,2,4,2,3,0,3,0,4,2,2,1,0,3,2,0,1,0,0,0,1,2,2,1,1,1,0,1,3,2,0,0,1,1,2,0,1,2,1,0,1,2,1,2,1,1,2,3,0,3,1,4,1,2,2,2,0,1,1,3,2,1,0,4,2,3,0,0,1,3,1,0,0,4,3,0,1,2,3,1,1,1,1,1,2,0,3,1,1,0,1,2,1,0,1,0,0,1,0,1,3,2,2,2,0,1,0,3,2,1,4,2,0,3,2,0,1,3,1,3,1,1,0,1,0,1,2,3,2,0],\"xaxis\":\"x\",\"yaxis\":\"y\",\"type\":\"histogram\"}],                        {\"template\":{\"data\":{\"histogram2dcontour\":[{\"type\":\"histogram2dcontour\",\"colorbar\":{\"outlinewidth\":0,\"ticks\":\"\"},\"colorscale\":[[0.0,\"#0d0887\"],[0.1111111111111111,\"#46039f\"],[0.2222222222222222,\"#7201a8\"],[0.3333333333333333,\"#9c179e\"],[0.4444444444444444,\"#bd3786\"],[0.5555555555555556,\"#d8576b\"],[0.6666666666666666,\"#ed7953\"],[0.7777777777777778,\"#fb9f3a\"],[0.8888888888888888,\"#fdca26\"],[1.0,\"#f0f921\"]]}],\"choropleth\":[{\"type\":\"choropleth\",\"colorbar\":{\"outlinewidth\":0,\"ticks\":\"\"}}],\"histogram2d\":[{\"type\":\"histogram2d\",\"colorbar\":{\"outlinewidth\":0,\"ticks\":\"\"},\"colorscale\":[[0.0,\"#0d0887\"],[0.1111111111111111,\"#46039f\"],[0.2222222222222222,\"#7201a8\"],[0.3333333333333333,\"#9c179e\"],[0.4444444444444444,\"#bd3786\"],[0.5555555555555556,\"#d8576b\"],[0.6666666666666666,\"#ed7953\"],[0.7777777777777778,\"#fb9f3a\"],[0.8888888888888888,\"#fdca26\"],[1.0,\"#f0f921\"]]}],\"heatmap\":[{\"type\":\"heatmap\",\"colorbar\":{\"outlinewidth\":0,\"ticks\":\"\"},\"colorscale\":[[0.0,\"#0d0887\"],[0.1111111111111111,\"#46039f\"],[0.2222222222222222,\"#7201a8\"],[0.3333333333333333,\"#9c179e\"],[0.4444444444444444,\"#bd3786\"],[0.5555555555555556,\"#d8576b\"],[0.6666666666666666,\"#ed7953\"],[0.7777777777777778,\"#fb9f3a\"],[0.8888888888888888,\"#fdca26\"],[1.0,\"#f0f921\"]]}],\"heatmapgl\":[{\"type\":\"heatmapgl\",\"colorbar\":{\"outlinewidth\":0,\"ticks\":\"\"},\"colorscale\":[[0.0,\"#0d0887\"],[0.1111111111111111,\"#46039f\"],[0.2222222222222222,\"#7201a8\"],[0.3333333333333333,\"#9c179e\"],[0.4444444444444444,\"#bd3786\"],[0.5555555555555556,\"#d8576b\"],[0.6666666666666666,\"#ed7953\"],[0.7777777777777778,\"#fb9f3a\"],[0.8888888888888888,\"#fdca26\"],[1.0,\"#f0f921\"]]}],\"contourcarpet\":[{\"type\":\"contourcarpet\",\"colorbar\":{\"outlinewidth\":0,\"ticks\":\"\"}}],\"contour\":[{\"type\":\"contour\",\"colorbar\":{\"outlinewidth\":0,\"ticks\":\"\"},\"colorscale\":[[0.0,\"#0d0887\"],[0.1111111111111111,\"#46039f\"],[0.2222222222222222,\"#7201a8\"],[0.3333333333333333,\"#9c179e\"],[0.4444444444444444,\"#bd3786\"],[0.5555555555555556,\"#d8576b\"],[0.6666666666666666,\"#ed7953\"],[0.7777777777777778,\"#fb9f3a\"],[0.8888888888888888,\"#fdca26\"],[1.0,\"#f0f921\"]]}],\"surface\":[{\"type\":\"surface\",\"colorbar\":{\"outlinewidth\":0,\"ticks\":\"\"},\"colorscale\":[[0.0,\"#0d0887\"],[0.1111111111111111,\"#46039f\"],[0.2222222222222222,\"#7201a8\"],[0.3333333333333333,\"#9c179e\"],[0.4444444444444444,\"#bd3786\"],[0.5555555555555556,\"#d8576b\"],[0.6666666666666666,\"#ed7953\"],[0.7777777777777778,\"#fb9f3a\"],[0.8888888888888888,\"#fdca26\"],[1.0,\"#f0f921\"]]}],\"mesh3d\":[{\"type\":\"mesh3d\",\"colorbar\":{\"outlinewidth\":0,\"ticks\":\"\"}}],\"scatter\":[{\"fillpattern\":{\"fillmode\":\"overlay\",\"size\":10,\"solidity\":0.2},\"type\":\"scatter\"}],\"parcoords\":[{\"type\":\"parcoords\",\"line\":{\"colorbar\":{\"outlinewidth\":0,\"ticks\":\"\"}}}],\"scatterpolargl\":[{\"type\":\"scatterpolargl\",\"marker\":{\"colorbar\":{\"outlinewidth\":0,\"ticks\":\"\"}}}],\"bar\":[{\"error_x\":{\"color\":\"#2a3f5f\"},\"error_y\":{\"color\":\"#2a3f5f\"},\"marker\":{\"line\":{\"color\":\"#E5ECF6\",\"width\":0.5},\"pattern\":{\"fillmode\":\"overlay\",\"size\":10,\"solidity\":0.2}},\"type\":\"bar\"}],\"scattergeo\":[{\"type\":\"scattergeo\",\"marker\":{\"colorbar\":{\"outlinewidth\":0,\"ticks\":\"\"}}}],\"scatterpolar\":[{\"type\":\"scatterpolar\",\"marker\":{\"colorbar\":{\"outlinewidth\":0,\"ticks\":\"\"}}}],\"histogram\":[{\"marker\":{\"pattern\":{\"fillmode\":\"overlay\",\"size\":10,\"solidity\":0.2}},\"type\":\"histogram\"}],\"scattergl\":[{\"type\":\"scattergl\",\"marker\":{\"colorbar\":{\"outlinewidth\":0,\"ticks\":\"\"}}}],\"scatter3d\":[{\"type\":\"scatter3d\",\"line\":{\"colorbar\":{\"outlinewidth\":0,\"ticks\":\"\"}},\"marker\":{\"colorbar\":{\"outlinewidth\":0,\"ticks\":\"\"}}}],\"scattermapbox\":[{\"type\":\"scattermapbox\",\"marker\":{\"colorbar\":{\"outlinewidth\":0,\"ticks\":\"\"}}}],\"scatterternary\":[{\"type\":\"scatterternary\",\"marker\":{\"colorbar\":{\"outlinewidth\":0,\"ticks\":\"\"}}}],\"scattercarpet\":[{\"type\":\"scattercarpet\",\"marker\":{\"colorbar\":{\"outlinewidth\":0,\"ticks\":\"\"}}}],\"carpet\":[{\"aaxis\":{\"endlinecolor\":\"#2a3f5f\",\"gridcolor\":\"white\",\"linecolor\":\"white\",\"minorgridcolor\":\"white\",\"startlinecolor\":\"#2a3f5f\"},\"baxis\":{\"endlinecolor\":\"#2a3f5f\",\"gridcolor\":\"white\",\"linecolor\":\"white\",\"minorgridcolor\":\"white\",\"startlinecolor\":\"#2a3f5f\"},\"type\":\"carpet\"}],\"table\":[{\"cells\":{\"fill\":{\"color\":\"#EBF0F8\"},\"line\":{\"color\":\"white\"}},\"header\":{\"fill\":{\"color\":\"#C8D4E3\"},\"line\":{\"color\":\"white\"}},\"type\":\"table\"}],\"barpolar\":[{\"marker\":{\"line\":{\"color\":\"#E5ECF6\",\"width\":0.5},\"pattern\":{\"fillmode\":\"overlay\",\"size\":10,\"solidity\":0.2}},\"type\":\"barpolar\"}],\"pie\":[{\"automargin\":true,\"type\":\"pie\"}]},\"layout\":{\"autotypenumbers\":\"strict\",\"colorway\":[\"#636efa\",\"#EF553B\",\"#00cc96\",\"#ab63fa\",\"#FFA15A\",\"#19d3f3\",\"#FF6692\",\"#B6E880\",\"#FF97FF\",\"#FECB52\"],\"font\":{\"color\":\"#2a3f5f\"},\"hovermode\":\"closest\",\"hoverlabel\":{\"align\":\"left\"},\"paper_bgcolor\":\"white\",\"plot_bgcolor\":\"#E5ECF6\",\"polar\":{\"bgcolor\":\"#E5ECF6\",\"angularaxis\":{\"gridcolor\":\"white\",\"linecolor\":\"white\",\"ticks\":\"\"},\"radialaxis\":{\"gridcolor\":\"white\",\"linecolor\":\"white\",\"ticks\":\"\"}},\"ternary\":{\"bgcolor\":\"#E5ECF6\",\"aaxis\":{\"gridcolor\":\"white\",\"linecolor\":\"white\",\"ticks\":\"\"},\"baxis\":{\"gridcolor\":\"white\",\"linecolor\":\"white\",\"ticks\":\"\"},\"caxis\":{\"gridcolor\":\"white\",\"linecolor\":\"white\",\"ticks\":\"\"}},\"coloraxis\":{\"colorbar\":{\"outlinewidth\":0,\"ticks\":\"\"}},\"colorscale\":{\"sequential\":[[0.0,\"#0d0887\"],[0.1111111111111111,\"#46039f\"],[0.2222222222222222,\"#7201a8\"],[0.3333333333333333,\"#9c179e\"],[0.4444444444444444,\"#bd3786\"],[0.5555555555555556,\"#d8576b\"],[0.6666666666666666,\"#ed7953\"],[0.7777777777777778,\"#fb9f3a\"],[0.8888888888888888,\"#fdca26\"],[1.0,\"#f0f921\"]],\"sequentialminus\":[[0.0,\"#0d0887\"],[0.1111111111111111,\"#46039f\"],[0.2222222222222222,\"#7201a8\"],[0.3333333333333333,\"#9c179e\"],[0.4444444444444444,\"#bd3786\"],[0.5555555555555556,\"#d8576b\"],[0.6666666666666666,\"#ed7953\"],[0.7777777777777778,\"#fb9f3a\"],[0.8888888888888888,\"#fdca26\"],[1.0,\"#f0f921\"]],\"diverging\":[[0,\"#8e0152\"],[0.1,\"#c51b7d\"],[0.2,\"#de77ae\"],[0.3,\"#f1b6da\"],[0.4,\"#fde0ef\"],[0.5,\"#f7f7f7\"],[0.6,\"#e6f5d0\"],[0.7,\"#b8e186\"],[0.8,\"#7fbc41\"],[0.9,\"#4d9221\"],[1,\"#276419\"]]},\"xaxis\":{\"gridcolor\":\"white\",\"linecolor\":\"white\",\"ticks\":\"\",\"title\":{\"standoff\":15},\"zerolinecolor\":\"white\",\"automargin\":true,\"zerolinewidth\":2},\"yaxis\":{\"gridcolor\":\"white\",\"linecolor\":\"white\",\"ticks\":\"\",\"title\":{\"standoff\":15},\"zerolinecolor\":\"white\",\"automargin\":true,\"zerolinewidth\":2},\"scene\":{\"xaxis\":{\"backgroundcolor\":\"#E5ECF6\",\"gridcolor\":\"white\",\"linecolor\":\"white\",\"showbackground\":true,\"ticks\":\"\",\"zerolinecolor\":\"white\",\"gridwidth\":2},\"yaxis\":{\"backgroundcolor\":\"#E5ECF6\",\"gridcolor\":\"white\",\"linecolor\":\"white\",\"showbackground\":true,\"ticks\":\"\",\"zerolinecolor\":\"white\",\"gridwidth\":2},\"zaxis\":{\"backgroundcolor\":\"#E5ECF6\",\"gridcolor\":\"white\",\"linecolor\":\"white\",\"showbackground\":true,\"ticks\":\"\",\"zerolinecolor\":\"white\",\"gridwidth\":2}},\"shapedefaults\":{\"line\":{\"color\":\"#2a3f5f\"}},\"annotationdefaults\":{\"arrowcolor\":\"#2a3f5f\",\"arrowhead\":0,\"arrowwidth\":1},\"geo\":{\"bgcolor\":\"white\",\"landcolor\":\"#E5ECF6\",\"subunitcolor\":\"white\",\"showland\":true,\"showlakes\":true,\"lakecolor\":\"white\"},\"title\":{\"x\":0.05},\"mapbox\":{\"style\":\"light\"}}},\"xaxis\":{\"anchor\":\"y\",\"domain\":[0.0,1.0],\"title\":{\"text\":\"x\"}},\"yaxis\":{\"anchor\":\"x\",\"domain\":[0.0,1.0],\"title\":{\"text\":\"count\"}},\"legend\":{\"tracegroupgap\":0},\"margin\":{\"t\":60},\"barmode\":\"relative\"},                        {\"responsive\": true}                    ).then(function(){\n",
              "                            \n",
              "var gd = document.getElementById('f97b572c-c0c6-443a-8312-27814732b918');\n",
              "var x = new MutationObserver(function (mutations, observer) {{\n",
              "        var display = window.getComputedStyle(gd).display;\n",
              "        if (!display || display === 'none') {{\n",
              "            console.log([gd, 'removed!']);\n",
              "            Plotly.purge(gd);\n",
              "            observer.disconnect();\n",
              "        }}\n",
              "}});\n",
              "\n",
              "// Listen for the removal of the full notebook cells\n",
              "var notebookContainer = gd.closest('#notebook-container');\n",
              "if (notebookContainer) {{\n",
              "    x.observe(notebookContainer, {childList: true});\n",
              "}}\n",
              "\n",
              "// Listen for the clearing of the current output cell\n",
              "var outputEl = gd.closest('.output');\n",
              "if (outputEl) {{\n",
              "    x.observe(outputEl, {childList: true});\n",
              "}}\n",
              "\n",
              "                        })                };                            </script>        </div>\n",
              "</body>\n",
              "</html>"
            ]
          },
          "metadata": {}
        }
      ],
      "source": [
        "#| caption: A histogram of samples from the discrete distribution.\n",
        "#| label: fig:discrete-samples\n",
        "px.histogram(x=[sample() for i in range(1000)])"
      ]
    },
    {
      "cell_type": "markdown",
      "metadata": {
        "id": "H5bOGS8iP9Ox"
      },
      "source": [
        "Of course, GTSAM has all this machinery built-in:"
      ]
    },
    {
      "cell_type": "code",
      "execution_count": 13,
      "metadata": {
        "id": "wB9sPmB3P9Ox",
        "outputId": "ce04b29d-7370-4870-b183-a0e5f3262651",
        "colab": {
          "base_uri": "https://localhost:8080/",
          "height": 542
        }
      },
      "outputs": [
        {
          "output_type": "display_data",
          "data": {
            "text/html": [
              "<html>\n",
              "<head><meta charset=\"utf-8\" /></head>\n",
              "<body>\n",
              "    <div>            <script src=\"https://cdnjs.cloudflare.com/ajax/libs/mathjax/2.7.5/MathJax.js?config=TeX-AMS-MML_SVG\"></script><script type=\"text/javascript\">if (window.MathJax && window.MathJax.Hub && window.MathJax.Hub.Config) {window.MathJax.Hub.Config({SVG: {font: \"STIX-Web\"}});}</script>                <script type=\"text/javascript\">window.PlotlyConfig = {MathJaxConfig: 'local'};</script>\n",
              "        <script charset=\"utf-8\" src=\"https://cdn.plot.ly/plotly-2.35.2.min.js\"></script>                <div id=\"c69ce1a2-72b8-4a3e-a546-62e4236c743b\" class=\"plotly-graph-div\" style=\"height:525px; width:100%;\"></div>            <script type=\"text/javascript\">                                    window.PLOTLYENV=window.PLOTLYENV || {};                                    if (document.getElementById(\"c69ce1a2-72b8-4a3e-a546-62e4236c743b\")) {                    Plotly.newPlot(                        \"c69ce1a2-72b8-4a3e-a546-62e4236c743b\",                        [{\"alignmentgroup\":\"True\",\"bingroup\":\"x\",\"hovertemplate\":\"x=%{x}\\u003cbr\\u003ecount=%{y}\\u003cextra\\u003e\\u003c\\u002fextra\\u003e\",\"legendgroup\":\"\",\"marker\":{\"color\":\"#636efa\",\"pattern\":{\"shape\":\"\"}},\"name\":\"\",\"offsetgroup\":\"\",\"orientation\":\"v\",\"showlegend\":false,\"x\":[0,3,3,1,1,0,2,0,1,2,3,2,1,2,2,1,2,1,0,4,1,1,0,0,1,2,1,3,2,0,1,1,2,3,2,2,4,0,0,3,2,1,4,1,1,3,1,1,1,3,3,3,3,2,1,2,1,3,3,2,2,2,1,4,1,1,3,3,2,2,3,2,2,1,3,0,2,1,1,1,3,1,2,3,3,3,1,2,1,1,4,2,4,3,1,3,2,3,2,4,2,1,1,2,0,1,1,3,3,2,3,3,4,3,0,2,3,3,2,1,1,1,3,1,3,1,0,0,0,2,3,3,2,1,0,3,1,0,2,1,0,1,3,2,0,2,1,3,2,0,0,3,1,3,3,0,1,0,1,0,1,0,1,2,4,1,1,3,1,2,3,1,2,0,0,0,1,0,3,1,2,2,3,0,3,1,2,1,0,3,2,1,3,0,0,2,2,3,1,3,1,4,3,1,1,2,1,3,2,2,1,2,1,0,0,1,3,1,0,0,1,3,1,3,1,3,4,3,3,0,4,0,1,2,0,0,0,0,0,0,1,4,0,2,1,2,2,1,3,1,0,1,2,1,1,2,4,1,1,1,2,3,1,1,1,1,0,0,2,3,0,2,1,3,0,1,2,1,1,4,2,1,0,1,2,0,1,0,0,1,1,1,2,1,0,2,1,0,0,3,1,2,1,2,1,0,1,0,3,1,0,3,1,3,1,1,4,3,1,2,1,0,2,1,3,2,1,2,2,1,1,3,3,3,0,2,1,3,1,2,1,3,3,3,2,3,2,3,4,1,1,2,0,0,0,2,2,2,3,1,2,1,2,1,0,0,3,3,3,1,0,2,2,1,2,0,1,3,2,1,3,0,1,2,1,3,1,1,2,3,2,3,3,2,0,1,1,3,0,1,2,1,1,2,2,3,1,0,1,1,4,2,2,0,0,1,1,0,2,0,1,1,4,1,1,2,2,3,1,4,1,2,4,1,0,0,4,3,2,3,0,1,2,0,3,0,1,1,0,0,3,3,1,2,0,3,0,3,2,2,2,1,2,1,3,4,1,0,2,1,0,1,1,3,1,0,1,3,0,0,0,1,2,1,0,0,2,1,3,1,4,0,1,2,1,1,2,3,0,1,2,1,3,3,2,3,1,2,0,3,1,1,2,1,2,2,2,4,3,0,1,1,1,0,2,0,2,2,1,3,3,1,0,1,1,0,1,0,0,3,1,0,1,3,2,2,0,0,1,1,1,3,3,1,2,1,3,1,1,1,1,2,0,2,0,3,3,0,1,3,1,2,1,1,1,2,1,0,1,2,3,1,1,3,1,2,2,1,1,2,2,1,0,2,4,3,2,2,3,2,1,1,4,2,1,1,1,1,3,1,3,3,2,1,3,2,0,4,0,1,3,2,3,3,2,2,1,0,0,1,1,0,1,1,0,2,1,0,1,3,4,2,1,2,2,2,1,3,0,1,0,3,3,1,2,2,0,0,0,0,4,1,2,4,2,2,1,3,1,3,4,3,0,1,2,3,0,1,2,3,1,1,1,1,3,2,2,2,2,0,2,2,0,2,0,1,1,3,3,0,1,3,2,2,2,1,2,4,3,2,2,0,3,0,0,0,1,0,0,2,0,2,0,2,0,0,3,2,0,3,2,1,2,3,3,2,1,0,1,1,4,2,2,0,2,1,3,2,1,0,1,2,2,2,0,1,2,1,1,1,0,0,1,2,1,0,0,2,1,1,1,1,4,2,2,1,3,3,2,1,1,2,4,2,3,2,2,0,1,2,1,3,0,2,3,1,1,1,0,1,1,1,1,2,2,1,3,2,0,1,2,1,1,1,1,4,2,2,1,0,3,1,1,2,1,0,3,3,4,2,1,2,1,2,2,1,2,3,1,4,3,3,0,3,0,3,1,2,1,1,2,0,3,0,2,1,1,1,0,0,0,2,1,1,3,0,3,1,0,1,0,2,3,1,2,2,1,1,3,3,3,4,1,1,2,1,0,4,1,2,1,3,0,0,1,1,3,1,2,3,3,1,1,1,1,4,2,2,2,2,1,0,3,0,1,1,1,3,3,1,2,1,3,1,0,2,1,1,2,2,1,2,1,1,3,3,1,3,1,2,2,2,1,3,1,3,2,2,3,3,2,0,1,2,1,2,4,0,1,2,1,1,0,0,2,3,3,1,0,1,2,0,2,0,0,0,1,1,0,1,1,2,1,2,1,3,4,3,3,1,1,4,1,4,3,1,3,0,1,3],\"xaxis\":\"x\",\"yaxis\":\"y\",\"type\":\"histogram\"}],                        {\"template\":{\"data\":{\"histogram2dcontour\":[{\"type\":\"histogram2dcontour\",\"colorbar\":{\"outlinewidth\":0,\"ticks\":\"\"},\"colorscale\":[[0.0,\"#0d0887\"],[0.1111111111111111,\"#46039f\"],[0.2222222222222222,\"#7201a8\"],[0.3333333333333333,\"#9c179e\"],[0.4444444444444444,\"#bd3786\"],[0.5555555555555556,\"#d8576b\"],[0.6666666666666666,\"#ed7953\"],[0.7777777777777778,\"#fb9f3a\"],[0.8888888888888888,\"#fdca26\"],[1.0,\"#f0f921\"]]}],\"choropleth\":[{\"type\":\"choropleth\",\"colorbar\":{\"outlinewidth\":0,\"ticks\":\"\"}}],\"histogram2d\":[{\"type\":\"histogram2d\",\"colorbar\":{\"outlinewidth\":0,\"ticks\":\"\"},\"colorscale\":[[0.0,\"#0d0887\"],[0.1111111111111111,\"#46039f\"],[0.2222222222222222,\"#7201a8\"],[0.3333333333333333,\"#9c179e\"],[0.4444444444444444,\"#bd3786\"],[0.5555555555555556,\"#d8576b\"],[0.6666666666666666,\"#ed7953\"],[0.7777777777777778,\"#fb9f3a\"],[0.8888888888888888,\"#fdca26\"],[1.0,\"#f0f921\"]]}],\"heatmap\":[{\"type\":\"heatmap\",\"colorbar\":{\"outlinewidth\":0,\"ticks\":\"\"},\"colorscale\":[[0.0,\"#0d0887\"],[0.1111111111111111,\"#46039f\"],[0.2222222222222222,\"#7201a8\"],[0.3333333333333333,\"#9c179e\"],[0.4444444444444444,\"#bd3786\"],[0.5555555555555556,\"#d8576b\"],[0.6666666666666666,\"#ed7953\"],[0.7777777777777778,\"#fb9f3a\"],[0.8888888888888888,\"#fdca26\"],[1.0,\"#f0f921\"]]}],\"heatmapgl\":[{\"type\":\"heatmapgl\",\"colorbar\":{\"outlinewidth\":0,\"ticks\":\"\"},\"colorscale\":[[0.0,\"#0d0887\"],[0.1111111111111111,\"#46039f\"],[0.2222222222222222,\"#7201a8\"],[0.3333333333333333,\"#9c179e\"],[0.4444444444444444,\"#bd3786\"],[0.5555555555555556,\"#d8576b\"],[0.6666666666666666,\"#ed7953\"],[0.7777777777777778,\"#fb9f3a\"],[0.8888888888888888,\"#fdca26\"],[1.0,\"#f0f921\"]]}],\"contourcarpet\":[{\"type\":\"contourcarpet\",\"colorbar\":{\"outlinewidth\":0,\"ticks\":\"\"}}],\"contour\":[{\"type\":\"contour\",\"colorbar\":{\"outlinewidth\":0,\"ticks\":\"\"},\"colorscale\":[[0.0,\"#0d0887\"],[0.1111111111111111,\"#46039f\"],[0.2222222222222222,\"#7201a8\"],[0.3333333333333333,\"#9c179e\"],[0.4444444444444444,\"#bd3786\"],[0.5555555555555556,\"#d8576b\"],[0.6666666666666666,\"#ed7953\"],[0.7777777777777778,\"#fb9f3a\"],[0.8888888888888888,\"#fdca26\"],[1.0,\"#f0f921\"]]}],\"surface\":[{\"type\":\"surface\",\"colorbar\":{\"outlinewidth\":0,\"ticks\":\"\"},\"colorscale\":[[0.0,\"#0d0887\"],[0.1111111111111111,\"#46039f\"],[0.2222222222222222,\"#7201a8\"],[0.3333333333333333,\"#9c179e\"],[0.4444444444444444,\"#bd3786\"],[0.5555555555555556,\"#d8576b\"],[0.6666666666666666,\"#ed7953\"],[0.7777777777777778,\"#fb9f3a\"],[0.8888888888888888,\"#fdca26\"],[1.0,\"#f0f921\"]]}],\"mesh3d\":[{\"type\":\"mesh3d\",\"colorbar\":{\"outlinewidth\":0,\"ticks\":\"\"}}],\"scatter\":[{\"fillpattern\":{\"fillmode\":\"overlay\",\"size\":10,\"solidity\":0.2},\"type\":\"scatter\"}],\"parcoords\":[{\"type\":\"parcoords\",\"line\":{\"colorbar\":{\"outlinewidth\":0,\"ticks\":\"\"}}}],\"scatterpolargl\":[{\"type\":\"scatterpolargl\",\"marker\":{\"colorbar\":{\"outlinewidth\":0,\"ticks\":\"\"}}}],\"bar\":[{\"error_x\":{\"color\":\"#2a3f5f\"},\"error_y\":{\"color\":\"#2a3f5f\"},\"marker\":{\"line\":{\"color\":\"#E5ECF6\",\"width\":0.5},\"pattern\":{\"fillmode\":\"overlay\",\"size\":10,\"solidity\":0.2}},\"type\":\"bar\"}],\"scattergeo\":[{\"type\":\"scattergeo\",\"marker\":{\"colorbar\":{\"outlinewidth\":0,\"ticks\":\"\"}}}],\"scatterpolar\":[{\"type\":\"scatterpolar\",\"marker\":{\"colorbar\":{\"outlinewidth\":0,\"ticks\":\"\"}}}],\"histogram\":[{\"marker\":{\"pattern\":{\"fillmode\":\"overlay\",\"size\":10,\"solidity\":0.2}},\"type\":\"histogram\"}],\"scattergl\":[{\"type\":\"scattergl\",\"marker\":{\"colorbar\":{\"outlinewidth\":0,\"ticks\":\"\"}}}],\"scatter3d\":[{\"type\":\"scatter3d\",\"line\":{\"colorbar\":{\"outlinewidth\":0,\"ticks\":\"\"}},\"marker\":{\"colorbar\":{\"outlinewidth\":0,\"ticks\":\"\"}}}],\"scattermapbox\":[{\"type\":\"scattermapbox\",\"marker\":{\"colorbar\":{\"outlinewidth\":0,\"ticks\":\"\"}}}],\"scatterternary\":[{\"type\":\"scatterternary\",\"marker\":{\"colorbar\":{\"outlinewidth\":0,\"ticks\":\"\"}}}],\"scattercarpet\":[{\"type\":\"scattercarpet\",\"marker\":{\"colorbar\":{\"outlinewidth\":0,\"ticks\":\"\"}}}],\"carpet\":[{\"aaxis\":{\"endlinecolor\":\"#2a3f5f\",\"gridcolor\":\"white\",\"linecolor\":\"white\",\"minorgridcolor\":\"white\",\"startlinecolor\":\"#2a3f5f\"},\"baxis\":{\"endlinecolor\":\"#2a3f5f\",\"gridcolor\":\"white\",\"linecolor\":\"white\",\"minorgridcolor\":\"white\",\"startlinecolor\":\"#2a3f5f\"},\"type\":\"carpet\"}],\"table\":[{\"cells\":{\"fill\":{\"color\":\"#EBF0F8\"},\"line\":{\"color\":\"white\"}},\"header\":{\"fill\":{\"color\":\"#C8D4E3\"},\"line\":{\"color\":\"white\"}},\"type\":\"table\"}],\"barpolar\":[{\"marker\":{\"line\":{\"color\":\"#E5ECF6\",\"width\":0.5},\"pattern\":{\"fillmode\":\"overlay\",\"size\":10,\"solidity\":0.2}},\"type\":\"barpolar\"}],\"pie\":[{\"automargin\":true,\"type\":\"pie\"}]},\"layout\":{\"autotypenumbers\":\"strict\",\"colorway\":[\"#636efa\",\"#EF553B\",\"#00cc96\",\"#ab63fa\",\"#FFA15A\",\"#19d3f3\",\"#FF6692\",\"#B6E880\",\"#FF97FF\",\"#FECB52\"],\"font\":{\"color\":\"#2a3f5f\"},\"hovermode\":\"closest\",\"hoverlabel\":{\"align\":\"left\"},\"paper_bgcolor\":\"white\",\"plot_bgcolor\":\"#E5ECF6\",\"polar\":{\"bgcolor\":\"#E5ECF6\",\"angularaxis\":{\"gridcolor\":\"white\",\"linecolor\":\"white\",\"ticks\":\"\"},\"radialaxis\":{\"gridcolor\":\"white\",\"linecolor\":\"white\",\"ticks\":\"\"}},\"ternary\":{\"bgcolor\":\"#E5ECF6\",\"aaxis\":{\"gridcolor\":\"white\",\"linecolor\":\"white\",\"ticks\":\"\"},\"baxis\":{\"gridcolor\":\"white\",\"linecolor\":\"white\",\"ticks\":\"\"},\"caxis\":{\"gridcolor\":\"white\",\"linecolor\":\"white\",\"ticks\":\"\"}},\"coloraxis\":{\"colorbar\":{\"outlinewidth\":0,\"ticks\":\"\"}},\"colorscale\":{\"sequential\":[[0.0,\"#0d0887\"],[0.1111111111111111,\"#46039f\"],[0.2222222222222222,\"#7201a8\"],[0.3333333333333333,\"#9c179e\"],[0.4444444444444444,\"#bd3786\"],[0.5555555555555556,\"#d8576b\"],[0.6666666666666666,\"#ed7953\"],[0.7777777777777778,\"#fb9f3a\"],[0.8888888888888888,\"#fdca26\"],[1.0,\"#f0f921\"]],\"sequentialminus\":[[0.0,\"#0d0887\"],[0.1111111111111111,\"#46039f\"],[0.2222222222222222,\"#7201a8\"],[0.3333333333333333,\"#9c179e\"],[0.4444444444444444,\"#bd3786\"],[0.5555555555555556,\"#d8576b\"],[0.6666666666666666,\"#ed7953\"],[0.7777777777777778,\"#fb9f3a\"],[0.8888888888888888,\"#fdca26\"],[1.0,\"#f0f921\"]],\"diverging\":[[0,\"#8e0152\"],[0.1,\"#c51b7d\"],[0.2,\"#de77ae\"],[0.3,\"#f1b6da\"],[0.4,\"#fde0ef\"],[0.5,\"#f7f7f7\"],[0.6,\"#e6f5d0\"],[0.7,\"#b8e186\"],[0.8,\"#7fbc41\"],[0.9,\"#4d9221\"],[1,\"#276419\"]]},\"xaxis\":{\"gridcolor\":\"white\",\"linecolor\":\"white\",\"ticks\":\"\",\"title\":{\"standoff\":15},\"zerolinecolor\":\"white\",\"automargin\":true,\"zerolinewidth\":2},\"yaxis\":{\"gridcolor\":\"white\",\"linecolor\":\"white\",\"ticks\":\"\",\"title\":{\"standoff\":15},\"zerolinecolor\":\"white\",\"automargin\":true,\"zerolinewidth\":2},\"scene\":{\"xaxis\":{\"backgroundcolor\":\"#E5ECF6\",\"gridcolor\":\"white\",\"linecolor\":\"white\",\"showbackground\":true,\"ticks\":\"\",\"zerolinecolor\":\"white\",\"gridwidth\":2},\"yaxis\":{\"backgroundcolor\":\"#E5ECF6\",\"gridcolor\":\"white\",\"linecolor\":\"white\",\"showbackground\":true,\"ticks\":\"\",\"zerolinecolor\":\"white\",\"gridwidth\":2},\"zaxis\":{\"backgroundcolor\":\"#E5ECF6\",\"gridcolor\":\"white\",\"linecolor\":\"white\",\"showbackground\":true,\"ticks\":\"\",\"zerolinecolor\":\"white\",\"gridwidth\":2}},\"shapedefaults\":{\"line\":{\"color\":\"#2a3f5f\"}},\"annotationdefaults\":{\"arrowcolor\":\"#2a3f5f\",\"arrowhead\":0,\"arrowwidth\":1},\"geo\":{\"bgcolor\":\"white\",\"landcolor\":\"#E5ECF6\",\"subunitcolor\":\"white\",\"showland\":true,\"showlakes\":true,\"lakecolor\":\"white\"},\"title\":{\"x\":0.05},\"mapbox\":{\"style\":\"light\"}}},\"xaxis\":{\"anchor\":\"y\",\"domain\":[0.0,1.0],\"title\":{\"text\":\"x\"}},\"yaxis\":{\"anchor\":\"x\",\"domain\":[0.0,1.0],\"title\":{\"text\":\"count\"}},\"legend\":{\"tracegroupgap\":0},\"margin\":{\"t\":60},\"barmode\":\"relative\"},                        {\"responsive\": true}                    ).then(function(){\n",
              "                            \n",
              "var gd = document.getElementById('c69ce1a2-72b8-4a3e-a546-62e4236c743b');\n",
              "var x = new MutationObserver(function (mutations, observer) {{\n",
              "        var display = window.getComputedStyle(gd).display;\n",
              "        if (!display || display === 'none') {{\n",
              "            console.log([gd, 'removed!']);\n",
              "            Plotly.purge(gd);\n",
              "            observer.disconnect();\n",
              "        }}\n",
              "}});\n",
              "\n",
              "// Listen for the removal of the full notebook cells\n",
              "var notebookContainer = gd.closest('#notebook-container');\n",
              "if (notebookContainer) {{\n",
              "    x.observe(notebookContainer, {childList: true});\n",
              "}}\n",
              "\n",
              "// Listen for the clearing of the current output cell\n",
              "var outputEl = gd.closest('.output');\n",
              "if (outputEl) {{\n",
              "    x.observe(outputEl, {childList: true});\n",
              "}}\n",
              "\n",
              "                        })                };                            </script>        </div>\n",
              "</body>\n",
              "</html>"
            ]
          },
          "metadata": {}
        }
      ],
      "source": [
        "#| caption: The same histogram produced by GTSAM's `DiscreteDistribution.sample` method.\n",
        "#| label: fig:discrete-samples-gtsam\n",
        "px.histogram(x=[category_prior.sample() for i in range(1000)])"
      ]
    },
    {
      "cell_type": "markdown",
      "metadata": {
        "id": "yacwV-PdP9Ox"
      },
      "source": [
        "## GTSAM 101\n",
        "\n",
        "> The GTSAM concepts used in this section, explained."
      ]
    },
    {
      "cell_type": "markdown",
      "metadata": {
        "id": "4ZdRM62dFRd4"
      },
      "source": [
        "Above we created an instance of the `gtsam.DiscreteDistribution` class. As with any GTSAM class, you can type\n",
        "\n",
        "```python\n",
        "help(gtsam.DiscreteDistribution)\n",
        "```\n",
        "\n",
        "to get documentation on its constructors and methods. In particular, we called the constructor\n",
        "\n",
        "```python\n",
        " __init__(self: gtsam.DiscreteDistribution, key: Tuple[int, int], spec: str) -> None\n",
        " ```\n",
        "\n",
        "which expects two arguments (besides `self`, which you can ignore):\n",
        "- `key`: Many GTSAM objects take a *key* to indicate which variable is involved. In the case of a DiscreteDistribution, the key is actually a tuple of ints:\n",
        "    - the first int is a 64-bit identifier for the variable;\n",
        "    - the second int is the *cardinality* of the variable.\n",
        "- `spec`: The `DiscreteDistribution` class specifies a PMF (remember: probability mass function) which is given as a string of numbers, separated by `/`.\n",
        "\n",
        "Let's look at an example below:"
      ]
    },
    {
      "cell_type": "code",
      "execution_count": 14,
      "metadata": {
        "id": "M7r3iQDnFRd4",
        "outputId": "b82897ad-aaf9-4c91-98ce-c45d0a42d03f",
        "colab": {
          "base_uri": "https://localhost:8080/",
          "height": 132
        }
      },
      "outputs": [
        {
          "output_type": "execute_result",
          "data": {
            "text/plain": [
              "Discrete Prior\n",
              " P( 42 ):\n",
              " Choice(42) \n",
              " 0 Leaf  0.4\n",
              " 1 Leaf  0.1\n",
              " 2 Leaf  0.5\n"
            ],
            "text/html": [
              "<div>\n",
              "<p>  <i>P(42):</i></p>\n",
              "<div>\n",
              "<table class='DecisionTreeFactor'>\n",
              "  <thead>\n",
              "    <tr><th>42</th><th>value</th></tr>\n",
              "  </thead>\n",
              "  <tbody>\n",
              "    <tr><th>0</th><td>0.4</td></tr>\n",
              "    <tr><th>1</th><td>0.1</td></tr>\n",
              "    <tr><th>2</th><td>0.5</td></tr>\n",
              "  </tbody>\n",
              "</table>\n",
              "</div>"
            ],
            "text/markdown": " *P(42):*\n\n|42|value|\n|:-:|:-:|\n|0|0.4|\n|1|0.1|\n|2|0.5|\n"
          },
          "metadata": {},
          "execution_count": 14
        }
      ],
      "source": [
        "prior = gtsam.DiscreteDistribution((42, 3), \"0.4/0.1/0.5\")\n",
        "prior\n"
      ]
    },
    {
      "cell_type": "markdown",
      "metadata": {
        "id": "EJoWn39pFRd4"
      },
      "source": [
        "```{index} decision tree```As you can see, this is a PMF on the variable with id $42$, and it indeed has probabilities (that add up to one) for values `0..2`. Internally, GTSAM *actually* represents a PMF as a small **decision tree**, which you can reveal using `show`:"
      ]
    },
    {
      "cell_type": "code",
      "execution_count": 15,
      "metadata": {
        "id": "wVDpefZFFRd4",
        "outputId": "48178a37-ad33-44a7-f6c1-691cd4c597f9",
        "colab": {
          "base_uri": "https://localhost:8080/",
          "height": 165
        }
      },
      "outputs": [
        {
          "output_type": "execute_result",
          "data": {
            "image/svg+xml": "<?xml version=\"1.0\" encoding=\"UTF-8\" standalone=\"no\"?>\n<!DOCTYPE svg PUBLIC \"-//W3C//DTD SVG 1.1//EN\"\n \"http://www.w3.org/Graphics/SVG/1.1/DTD/svg11.dtd\">\n<!-- Generated by graphviz version 2.43.0 (0)\n -->\n<!-- Title: G Pages: 1 -->\n<svg width=\"206pt\" height=\"108pt\"\n viewBox=\"0.00 0.00 206.00 108.00\" xmlns=\"http://www.w3.org/2000/svg\" xmlns:xlink=\"http://www.w3.org/1999/xlink\">\n<g id=\"graph0\" class=\"graph\" transform=\"scale(1 1) rotate(0) translate(4 104)\">\n<title>G</title>\n<polygon fill=\"white\" stroke=\"transparent\" points=\"-4,4 -4,-104 202,-104 202,4 -4,4\"/>\n<!-- 0x57cb4d427600 -->\n<g id=\"node1\" class=\"node\">\n<title>0x57cb4d427600</title>\n<ellipse fill=\"none\" stroke=\"black\" cx=\"99\" cy=\"-80.5\" rx=\"19.5\" ry=\"19.5\"/>\n<text text-anchor=\"middle\" x=\"99\" y=\"-76.8\" font-family=\"Times,serif\" font-size=\"14.00\">42</text>\n</g>\n<!-- 0x57cb4c7c9dd0 -->\n<g id=\"node2\" class=\"node\">\n<title>0x57cb4c7c9dd0</title>\n<polygon fill=\"none\" stroke=\"black\" points=\"54,-25 0,-25 0,0 54,0 54,-25\"/>\n<text text-anchor=\"middle\" x=\"27\" y=\"-8.8\" font-family=\"Times,serif\" font-size=\"14.00\"> 0.4</text>\n</g>\n<!-- 0x57cb4d427600&#45;&gt;0x57cb4c7c9dd0 -->\n<g id=\"edge1\" class=\"edge\">\n<title>0x57cb4d427600&#45;&gt;0x57cb4c7c9dd0</title>\n<path fill=\"none\" stroke=\"black\" d=\"M85.12,-66.77C74.39,-56.94 59.39,-43.19 47.31,-32.12\"/>\n<polygon fill=\"black\" stroke=\"black\" points=\"49.61,-29.48 39.87,-25.3 44.88,-34.64 49.61,-29.48\"/>\n</g>\n<!-- 0x57cb4d0b57d0 -->\n<g id=\"node3\" class=\"node\">\n<title>0x57cb4d0b57d0</title>\n<polygon fill=\"none\" stroke=\"black\" points=\"126,-25 72,-25 72,0 126,0 126,-25\"/>\n<text text-anchor=\"middle\" x=\"99\" y=\"-8.8\" font-family=\"Times,serif\" font-size=\"14.00\"> 0.1</text>\n</g>\n<!-- 0x57cb4d427600&#45;&gt;0x57cb4d0b57d0 -->\n<g id=\"edge2\" class=\"edge\">\n<title>0x57cb4d427600&#45;&gt;0x57cb4d0b57d0</title>\n<path fill=\"none\" stroke=\"black\" d=\"M99,-60.76C99,-52.81 99,-43.5 99,-35.25\"/>\n<polygon fill=\"black\" stroke=\"black\" points=\"102.5,-35.22 99,-25.22 95.5,-35.22 102.5,-35.22\"/>\n</g>\n<!-- 0x57cb4cce7730 -->\n<g id=\"node4\" class=\"node\">\n<title>0x57cb4cce7730</title>\n<polygon fill=\"none\" stroke=\"black\" points=\"198,-25 144,-25 144,0 198,0 198,-25\"/>\n<text text-anchor=\"middle\" x=\"171\" y=\"-8.8\" font-family=\"Times,serif\" font-size=\"14.00\"> 0.5</text>\n</g>\n<!-- 0x57cb4d427600&#45;&gt;0x57cb4cce7730 -->\n<g id=\"edge3\" class=\"edge\">\n<title>0x57cb4d427600&#45;&gt;0x57cb4cce7730</title>\n<path fill=\"none\" stroke=\"black\" d=\"M112.88,-66.77C123.61,-56.94 138.61,-43.19 150.69,-32.12\"/>\n<polygon fill=\"black\" stroke=\"black\" points=\"153.12,-34.64 158.13,-25.3 148.39,-29.48 153.12,-34.64\"/>\n</g>\n</g>\n</svg>\n",
            "text/plain": [
              "<gtbook.display.show at 0x7ee0319b3850>"
            ]
          },
          "metadata": {},
          "execution_count": 15
        }
      ],
      "source": [
        "#| caption: The decision tree representation for a discrete probability distribution.\n",
        "#| label: fig:discrete-decision-tree\n",
        "show(prior)"
      ]
    },
    {
      "cell_type": "markdown",
      "metadata": {
        "id": "arbI8dzRFRd4"
      },
      "source": [
        "Of course, it would be much nicer if we could print out these PMFs in a more readable format, that shows us a name for each variable as well as a pretty name for each. This is where the `Variables` class comes to the rescue. We actually defined a global variable at the top of this notebook, like so:\n",
        "\n",
        "```python\n",
        "VARIABLES = Variables()\n",
        "```\n",
        "\n",
        "which then allows us to give a name to a variable. It will also pick a unique ID for our variable. We can do this with the `discrete` method, which takes a name and a set of value names:"
      ]
    },
    {
      "cell_type": "code",
      "execution_count": 16,
      "metadata": {
        "id": "unvmzNFkFRd5",
        "outputId": "8d9df6fc-7f7b-4f0b-c654-4a20a2f5198d",
        "colab": {
          "base_uri": "https://localhost:8080/"
        }
      },
      "outputs": [
        {
          "output_type": "stream",
          "name": "stdout",
          "text": [
            "key = (1, 3)\n"
          ]
        }
      ],
      "source": [
        "T = VARIABLES.discrete(\"TresCommas\", [\"one\", \"two\", \"three\"])\n",
        "print(f\"key = {T}\")"
      ]
    },
    {
      "cell_type": "markdown",
      "metadata": {
        "id": "VSqDebTyFRd5"
      },
      "source": [
        "As you can see, the id for the variable is 1 (Category, defined above, took id 0), and the cardinality was inferred to be three from the length of the list given as second argument.\n",
        "\n",
        "The `Variables` class can tell us about any discrete variable so defined, using the two methods `name` and `domain`:"
      ]
    },
    {
      "cell_type": "code",
      "execution_count": 17,
      "metadata": {
        "id": "UHPRK58XFRd5",
        "outputId": "f86d39c5-05fb-4740-de39-0d649464d245",
        "colab": {
          "base_uri": "https://localhost:8080/"
        }
      },
      "outputs": [
        {
          "output_type": "stream",
          "name": "stdout",
          "text": [
            "key = (1, 3), name = TresCommas, domain = ['one', 'two', 'three']\n"
          ]
        }
      ],
      "source": [
        "print(f\"key = {T}, name = {VARIABLES.name(T)}, domain = {VARIABLES.domain(T)}\")\n"
      ]
    },
    {
      "cell_type": "markdown",
      "metadata": {
        "id": "otZ_2gmZFRd5"
      },
      "source": [
        "Conceptually, the Variables class keeps track of the names of variables and what values each variable can take on. We do this so that later when we print, it can show us a beautiful outputs. Of course, this only works if we actually use the key returned to use by `Variables.discrete`. Let's demonstrate this next:"
      ]
    },
    {
      "cell_type": "code",
      "execution_count": 18,
      "metadata": {
        "id": "waNPusd7FRd5",
        "outputId": "60674386-1d0a-4eec-946b-184a283c31a6",
        "colab": {
          "base_uri": "https://localhost:8080/",
          "height": 132
        }
      },
      "outputs": [
        {
          "output_type": "execute_result",
          "data": {
            "text/plain": [
              "<gtbook.display.pretty at 0x7ee031e53520>"
            ],
            "text/html": [
              "<div>\n",
              "<p>  <i>P(TresCommas):</i></p>\n",
              "<div>\n",
              "<table class='DecisionTreeFactor'>\n",
              "  <thead>\n",
              "    <tr><th>TresCommas</th><th>value</th></tr>\n",
              "  </thead>\n",
              "  <tbody>\n",
              "    <tr><th>one</th><td>0.25</td></tr>\n",
              "    <tr><th>two</th><td>0.5</td></tr>\n",
              "    <tr><th>three</th><td>0.25</td></tr>\n",
              "  </tbody>\n",
              "</table>\n",
              "</div>"
            ]
          },
          "metadata": {},
          "execution_count": 18
        }
      ],
      "source": [
        "prior_on_tres_commas = gtsam.DiscreteDistribution(T, \"2/4/2\")\n",
        "pretty(prior_on_tres_commas)"
      ]
    },
    {
      "cell_type": "markdown",
      "metadata": {
        "id": "nZudl_bQFRd5"
      },
      "source": [
        "The above also illustrates once again that the `spec` string does not need to contain normalized probabilities. The constructor will do the normalization for us!\n",
        "\n",
        "Note that the function `pretty(*)` above is just a shortcut for `gtbook.discrete.pretty(*, VARIABLES)`, and is also defined alongside VARIABLES."
      ]
    },
    {
      "cell_type": "markdown",
      "metadata": {
        "id": "NS-dhUF4P9Ox"
      },
      "source": [
        "Finally, let us also look at the other `DiscreteDistribution` methods we called above:\n",
        "\n",
        "- `sample(self: gtsam.DiscreteConditional) -> int`: The `sample` method samples according to the PMF, returning the integer index of the sampled value, in $0\\dots cardinality-1$.\n",
        "- `pmf(self: gtsam.DiscreteDistribution) -> List[float]`: The `pmf` method will simply return all probability values, in order.\n",
        "- `__call__(self: gtsam.DiscreteDistribution, arg0: int) -> float`: The call operator: when given an integer value, will return just the one corresponding probability value.\n"
      ]
    },
    {
      "cell_type": "markdown",
      "metadata": {
        "id": "XWlNpuKHFRd5"
      },
      "source": [
        "We have illustrated the use of all of these in the text, already."
      ]
    },
    {
      "cell_type": "markdown",
      "metadata": {
        "id": "pL6Bbiv1FRd5"
      },
      "source": [
        "Finally, we can also inspect the `VARIABLES`, as it has an HTML representation:"
      ]
    },
    {
      "cell_type": "code",
      "execution_count": 19,
      "metadata": {
        "id": "xqabBYbVFRd5",
        "outputId": "1f578f14-31e7-4da7-8382-f0bbfcde5097",
        "colab": {
          "base_uri": "https://localhost:8080/",
          "height": 82
        }
      },
      "outputs": [
        {
          "output_type": "execute_result",
          "data": {
            "text/plain": [
              "<gtbook.discrete.Variables at 0x7ee0633b57e0>"
            ],
            "text/html": [
              "<div>\n",
              "<table class='Variables'>\n",
              "  <thead>\n",
              "    <tr><th>Variable</th><th>Domain</th></tr>\n",
              "  </thead>\n",
              "  <tbody>\n",
              "    <tr><th>Category</th><td>cardboard, paper, can, scrap metal, bottle</td></tr>\n",
              "    <tr><th>TresCommas</th><td>one, two, three</td></tr>\n",
              "  </tbody>\n",
              "</table>\n",
              "</div>"
            ]
          },
          "metadata": {},
          "execution_count": 19
        }
      ],
      "source": [
        "VARIABLES"
      ]
    },
    {
      "cell_type": "markdown",
      "metadata": {
        "id": "2FLh8k0jFRd5"
      },
      "source": [
        "The table shows that we have defined two variables so far, `Category` and `TresCommas`, with respectively six and three possible values, shown in the \"Domain\" column."
      ]
    }
  ],
  "metadata": {
    "colab": {
      "name": "S21_sorter_state.ipynb",
      "provenance": [],
      "include_colab_link": true
    },
    "kernelspec": {
      "display_name": "Python 3.8.12 ('gtbook')",
      "language": "python",
      "name": "python3"
    },
    "language_info": {
      "codemirror_mode": {
        "name": "ipython",
        "version": 3
      },
      "file_extension": ".py",
      "mimetype": "text/x-python",
      "name": "python",
      "nbconvert_exporter": "python",
      "pygments_lexer": "ipython3",
      "version": "3.9.18"
    },
    "latex_metadata": {
      "affiliation": "Georgia Institute of Technology",
      "author": "Frank Dellaert and Seth Hutchinson",
      "title": "Introduction to Robotics"
    },
    "vscode": {
      "interpreter": {
        "hash": "9f7376ced4243bb13dfcffa8a3ba834e0602aa8334cd3a1d8ba8d285f4628083"
      }
    }
  },
  "nbformat": 4,
  "nbformat_minor": 0
}